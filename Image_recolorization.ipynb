{
 "cells": [
  {
   "cell_type": "code",
   "execution_count": 1,
   "id": "9ef7590e",
   "metadata": {},
   "outputs": [
    {
     "ename": "ModuleNotFoundError",
     "evalue": "No module named 'torch'",
     "output_type": "error",
     "traceback": [
      "\u001b[0;31m---------------------------------------------------------------------------\u001b[0m",
      "\u001b[0;31mModuleNotFoundError\u001b[0m                       Traceback (most recent call last)",
      "\u001b[0;32m<ipython-input-1-6256e7151291>\u001b[0m in \u001b[0;36m<module>\u001b[0;34m\u001b[0m\n\u001b[1;32m      1\u001b[0m \u001b[0;32mimport\u001b[0m \u001b[0mnumpy\u001b[0m \u001b[0;32mas\u001b[0m \u001b[0mnp\u001b[0m\u001b[0;34m\u001b[0m\u001b[0;34m\u001b[0m\u001b[0m\n\u001b[1;32m      2\u001b[0m \u001b[0;34m\u001b[0m\u001b[0m\n\u001b[0;32m----> 3\u001b[0;31m \u001b[0;32mimport\u001b[0m \u001b[0mtorch\u001b[0m\u001b[0;34m\u001b[0m\u001b[0;34m\u001b[0m\u001b[0m\n\u001b[0m\u001b[1;32m      4\u001b[0m \u001b[0;32mimport\u001b[0m \u001b[0mtorch\u001b[0m\u001b[0;34m.\u001b[0m\u001b[0mnn\u001b[0m \u001b[0;32mas\u001b[0m \u001b[0mnn\u001b[0m\u001b[0;34m\u001b[0m\u001b[0;34m\u001b[0m\u001b[0m\n\u001b[1;32m      5\u001b[0m \u001b[0;32mimport\u001b[0m \u001b[0mtorch\u001b[0m\u001b[0;34m.\u001b[0m\u001b[0moptim\u001b[0m \u001b[0;32mas\u001b[0m \u001b[0moptim\u001b[0m\u001b[0;34m\u001b[0m\u001b[0;34m\u001b[0m\u001b[0m\n",
      "\u001b[0;31mModuleNotFoundError\u001b[0m: No module named 'torch'"
     ]
    }
   ],
   "source": [
    "import numpy as np\n",
    "\n",
    "import torch\n",
    "import torch.nn as nn\n",
    "import torch.optim as optim\n",
    "from torch.utils.data import Dataset, DataLoader\n",
    "from torchvision import transforms"
   ]
  },
  {
   "cell_type": "code",
   "execution_count": null,
   "id": "caf2031e",
   "metadata": {},
   "outputs": [],
   "source": [
    "#import os\n",
    "#os.environ['CUDA_LAUNCH_BLOCKING'] = '1'"
   ]
  },
  {
   "cell_type": "code",
   "execution_count": null,
   "id": "841708b2",
   "metadata": {},
   "outputs": [],
   "source": [
    "class UNet(nn.Module):\n",
    "    \n",
    "    def __init__():\n",
    "        \n",
    "        super(UNet, self).__init__()\n",
    "        \n",
    "        self.decoder_block_1 = nn.Sequential(\n",
    "            nn.Conv2d(in_channel = Ni, out_channel = 64, kernel_size = 3, padding = 0, stride = 2),\n",
    "            nn.ReLU(),\n",
    "            nn.Conv2d(in_channel = 64, out_channel = 64, kernel_size = 3, padding = 0, stride = 2),\n",
    "            nn.ReLU()\n",
    "        )\n",
    "        \n",
    "        self.decoder_block_2 = nn.Sequential(\n",
    "            nn.Conv2d(in_channel = 64, out_channel = 128, kernel_size = 3, padding = 0, stride = 2),\n",
    "            nn.ReLU(),\n",
    "            nn.Conv2d(in_channel = 128, out_channel = 128, kernel_size = 3, padding = 0, stride = 2),\n",
    "            nn.ReLU()\n",
    "        )\n",
    "        \n",
    "        self.decoder_block_2 = nn.Sequential(\n",
    "            nn.Conv2d(in_channel = 128, out_channel = 256, kernel_size = 3, padding = 0, stride = 2),\n",
    "            nn.ReLU(),\n",
    "            nn.Conv2d(in_channel = 256, out_channel = 256, kernel_size = 3, padding = 0, stride = 2),\n",
    "            nn.ReLU()\n",
    "        )\n",
    "        \n",
    "        self.decoder_block_2 = nn.Sequential(\n",
    "            nn.Upsample(sca)\n",
    "        )\n",
    "        \n",
    "        \n",
    "        \n",
    "        \n",
    "        \n",
    "        \n",
    "        "
   ]
  }
 ],
 "metadata": {
  "kernelspec": {
   "display_name": "Python 3",
   "language": "python",
   "name": "python3"
  },
  "language_info": {
   "codemirror_mode": {
    "name": "ipython",
    "version": 3
   },
   "file_extension": ".py",
   "mimetype": "text/x-python",
   "name": "python",
   "nbconvert_exporter": "python",
   "pygments_lexer": "ipython3",
   "version": "3.8.8"
  }
 },
 "nbformat": 4,
 "nbformat_minor": 5
}
